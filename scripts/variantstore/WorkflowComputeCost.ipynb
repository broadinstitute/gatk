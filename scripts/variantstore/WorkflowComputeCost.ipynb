{
 "cells": [
  {
   "cell_type": "code",
   "execution_count": 4,
   "metadata": {},
   "outputs": [
    {
     "name": "stdout",
     "output_type": "stream",
     "text": [
      "Total Workflow Compute cost for workspace 'broad-firecloud-dsde/VS-415 GVS Quickstart Default Extract Scatter': $7.07\n"
     ]
    }
   ],
   "source": [
    "from firecloud import api as fapi\n",
    "import os\n",
    "\n",
    "ws_project = os.environ['WORKSPACE_NAMESPACE']\n",
    "ws_name = os.environ['WORKSPACE_NAME']\n",
    "\n",
    "# Any submissions to be excluded from cost calculations should be added here.\n",
    "excluded_submission_ids = ['73ac71db-0488-46be-a8e8-7f00e795edec']\n",
    "\n",
    "\n",
    "submissions = fapi.list_submissions(ws_project, ws_name).json()\n",
    "submission_ids = [s['submissionId'] for s in submissions]\n",
    "filtered_submission_ids = [i for i in submission_ids if i not in excluded_submission_ids]\n",
    "\n",
    "cost = 0\n",
    "for submission_id in filtered_submission_ids:\n",
    "    submission = fapi.get_submission(ws_project, ws_name, submission_id).json()\n",
    "    cost = cost + submission['cost']\n",
    "    \n",
    "print(f\"Total Workflow Compute cost for workspace '{ws_project}/{ws_name}': ${cost:.2f}\")"
   ]
  },
  {
   "cell_type": "code",
   "execution_count": null,
   "metadata": {},
   "outputs": [],
   "source": []
  }
 ],
 "metadata": {
  "kernelspec": {
   "display_name": "Python 3",
   "language": "python",
   "name": "python3"
  },
  "language_info": {
   "codemirror_mode": {
    "name": "ipython",
    "version": 3
   },
   "file_extension": ".py",
   "mimetype": "text/x-python",
   "name": "python",
   "nbconvert_exporter": "python",
   "pygments_lexer": "ipython3",
   "version": "3.7.12"
  },
  "toc": {
   "base_numbering": 1,
   "nav_menu": {},
   "number_sections": true,
   "sideBar": true,
   "skip_h1_title": false,
   "title_cell": "Table of Contents",
   "title_sidebar": "Contents",
   "toc_cell": false,
   "toc_position": {},
   "toc_section_display": true,
   "toc_window_display": false
  }
 },
 "nbformat": 4,
 "nbformat_minor": 2
}
